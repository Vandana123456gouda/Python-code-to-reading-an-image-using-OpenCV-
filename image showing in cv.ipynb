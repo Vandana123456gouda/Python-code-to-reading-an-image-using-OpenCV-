{
 "cells": [
  {
   "cell_type": "code",
   "execution_count": 1,
   "metadata": {},
   "outputs": [],
   "source": [
    "# Python code to reading an image using OpenCV \n",
    "import numpy as np \n",
    "import cv2 \n",
    "\n",
    "# You can give path to the \n",
    "# image as first argument \n",
    "img = cv2.imread('dog.jpg', 0) \n",
    "\n",
    "# will show the image in a window \n",
    "cv2.imshow('image', img) \n",
    "k = cv2.waitKey(0) & 0xFF\n",
    "\n",
    "# wait for ESC key to exit \n",
    "if k == 27: \n",
    "\tcv2.destroyAllWindows() \n",
    "\t\n",
    "# wait for 's' key to save and exit \n",
    "elif k == ord('s'): \n",
    "\tcv2.imwrite('messigray.png',img) \n",
    "\tcv2.destroyAllWindows() \n"
   ]
  },
  {
   "cell_type": "code",
   "execution_count": null,
   "metadata": {},
   "outputs": [],
   "source": [
    "\n",
    "import cv2 \n",
    "import numpy as np \n",
    "import matplotlib.pyplot as plt \n",
    "  \n",
    "img = cv2.imread('dog.jpg',  \n",
    "                  cv2.IMREAD_GRAYSCALE) \n",
    "  \n",
    "cv2.imshow('image', img) \n",
    "cv2.waitKey(0) \n",
    "cv2.destoryAllWindows() "
   ]
  },
  {
   "cell_type": "code",
   "execution_count": null,
   "metadata": {},
   "outputs": [],
   "source": []
  }
 ],
 "metadata": {
  "kernelspec": {
   "display_name": "Python 3",
   "language": "python",
   "name": "python3"
  },
  "language_info": {
   "codemirror_mode": {
    "name": "ipython",
    "version": 3
   },
   "file_extension": ".py",
   "mimetype": "text/x-python",
   "name": "python",
   "nbconvert_exporter": "python",
   "pygments_lexer": "ipython3",
   "version": "3.7.1"
  }
 },
 "nbformat": 4,
 "nbformat_minor": 2
}
